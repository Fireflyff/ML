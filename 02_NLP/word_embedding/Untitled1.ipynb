{
 "cells": [
  {
   "cell_type": "code",
   "execution_count": 1,
   "id": "60816ee9",
   "metadata": {},
   "outputs": [
    {
     "data": {
      "text/plain": [
       "'\\n文本相似度分析的步骤\\n1、读取文档\\n2、对要计算的多篇文档进行分词\\n3、对文档进行整理成指定格式，方便后续进行计算\\n4、计算出词语的词频\\n5、【可选】对词频低的词语进行过滤\\n6、建立语料库词典\\n7、加载要对比的文档\\n8、将要对比的文档通过doc2bow转化为词袋模型\\n9、对词袋模型进行进一步处理，得到新语料库\\n10、将新语料库通过tfidfmodel进行处理，得到tfidf\\n11、通过token2id得到特征数\\n12、稀疏矩阵相似度，从而建立索引\\n13、得到最终相似度结果\\n'"
      ]
     },
     "execution_count": 1,
     "metadata": {},
     "output_type": "execute_result"
    }
   ],
   "source": [
    "'''\n",
    "文本相似度分析的步骤\n",
    "1、读取文档\n",
    "2、对要计算的多篇文档进行分词\n",
    "3、对文档进行整理成指定格式，方便后续进行计算\n",
    "4、计算出词语的词频\n",
    "5、【可选】对词频低的词语进行过滤\n",
    "6、建立语料库词典\n",
    "7、加载要对比的文档\n",
    "8、将要对比的文档通过doc2bow转化为词袋模型\n",
    "9、对词袋模型进行进一步处理，得到新语料库\n",
    "10、将新语料库通过tfidfmodel进行处理，得到tfidf\n",
    "11、通过token2id得到特征数\n",
    "12、稀疏矩阵相似度，从而建立索引\n",
    "13、得到最终相似度结果\n",
    "'''"
   ]
  },
  {
   "cell_type": "code",
   "execution_count": 1,
   "id": "f547dfd5",
   "metadata": {},
   "outputs": [],
   "source": [
    "import jieba\n",
    "from gensim import corpora,models,similarities"
   ]
  },
  {
   "cell_type": "code",
   "execution_count": 2,
   "id": "832ae376",
   "metadata": {},
   "outputs": [],
   "source": [
    "doc0 = \"我不喜欢上海\"\n",
    "doc1 = \"上海是一个好地方\"\n",
    "doc2 = \"北京是一个好地方\"\n",
    "doc3 = \"上海好吃的在哪里\"\n",
    "doc4 = \"上海好玩的在哪里\"\n",
    "doc5 = \"上海是好地方\"\n",
    "doc6 = \"上海路和上海人\"\n",
    "doc7 = \"喜欢小吃\"\n",
    "doc_test=\"我喜欢上海的小吃\""
   ]
  },
  {
   "cell_type": "code",
   "execution_count": 3,
   "id": "7afc3613",
   "metadata": {},
   "outputs": [],
   "source": [
    "all_doc = []\n",
    "all_doc.append(doc0)\n",
    "all_doc.append(doc1)\n",
    "all_doc.append(doc2)\n",
    "all_doc.append(doc3)\n",
    "all_doc.append(doc4)\n",
    "all_doc.append(doc5)\n",
    "all_doc.append(doc6)\n",
    "all_doc.append(doc7)"
   ]
  },
  {
   "cell_type": "code",
   "execution_count": 4,
   "id": "1e8fd620",
   "metadata": {},
   "outputs": [
    {
     "name": "stderr",
     "output_type": "stream",
     "text": [
      "Building prefix dict from the default dictionary ...\n",
      "Loading model from cache /var/folders/dm/n5w6s3vs0yv6nm2h3smdvs380000gn/T/jieba.cache\n",
      "Loading model cost 0.792 seconds.\n",
      "Prefix dict has been built successfully.\n"
     ]
    },
    {
     "data": {
      "text/plain": [
       "[['我', '不', '喜欢', '上海'],\n",
       " ['上海', '是', '一个', '好', '地方'],\n",
       " ['北京', '是', '一个', '好', '地方'],\n",
       " ['上海', '好吃', '的', '在', '哪里'],\n",
       " ['上海', '好玩', '的', '在', '哪里'],\n",
       " ['上海', '是', '好', '地方'],\n",
       " ['上海', '路', '和', '上海', '人'],\n",
       " ['喜欢', '小吃']]"
      ]
     },
     "execution_count": 4,
     "metadata": {},
     "output_type": "execute_result"
    }
   ],
   "source": [
    "all_doc_list = []\n",
    "for doc in all_doc:  \n",
    "    doc_list = [word for word in jieba.cut(doc)]  \n",
    "    all_doc_list.append(doc_list)\n",
    "all_doc_list"
   ]
  },
  {
   "cell_type": "code",
   "execution_count": 5,
   "id": "d2bfd5fe",
   "metadata": {},
   "outputs": [
    {
     "data": {
      "text/plain": [
       "['我', '喜欢', '上海', '的', '小吃']"
      ]
     },
     "execution_count": 5,
     "metadata": {},
     "output_type": "execute_result"
    }
   ],
   "source": [
    "doc_test_list = [word for word in jieba.cut(doc_test)]\n",
    "doc_test_list"
   ]
  },
  {
   "cell_type": "code",
   "execution_count": 6,
   "id": "26b94c4c",
   "metadata": {},
   "outputs": [
    {
     "data": {
      "text/plain": [
       "([0, 1, 2, 3, 4, 5, 6, 7, 8, 9, 10, 11, 12, 13, 14, 15, 16, 17],\n",
       " {'上海': 0,\n",
       "  '不': 1,\n",
       "  '喜欢': 2,\n",
       "  '我': 3,\n",
       "  '一个': 4,\n",
       "  '地方': 5,\n",
       "  '好': 6,\n",
       "  '是': 7,\n",
       "  '北京': 8,\n",
       "  '哪里': 9,\n",
       "  '在': 10,\n",
       "  '好吃': 11,\n",
       "  '的': 12,\n",
       "  '好玩': 13,\n",
       "  '人': 14,\n",
       "  '和': 15,\n",
       "  '路': 16,\n",
       "  '小吃': 17})"
      ]
     },
     "execution_count": 6,
     "metadata": {},
     "output_type": "execute_result"
    }
   ],
   "source": [
    "# 用dictionary方法获取词袋\n",
    "dictionary = corpora.Dictionary(all_doc_list)\n",
    "dictionary.keys(), dictionary.token2id"
   ]
  },
  {
   "cell_type": "code",
   "execution_count": 7,
   "id": "f9fcb5a3",
   "metadata": {},
   "outputs": [],
   "source": [
    "# 使用doc2bow制作语料库\n",
    "corpus = [dictionary.doc2bow(doc) for doc in all_doc_list]"
   ]
  },
  {
   "cell_type": "code",
   "execution_count": 8,
   "id": "18beca32",
   "metadata": {},
   "outputs": [
    {
     "data": {
      "text/plain": [
       "[[(0, 1), (1, 1), (2, 1), (3, 1)],\n",
       " [(0, 1), (4, 1), (5, 1), (6, 1), (7, 1)],\n",
       " [(4, 1), (5, 1), (6, 1), (7, 1), (8, 1)],\n",
       " [(0, 1), (9, 1), (10, 1), (11, 1), (12, 1)],\n",
       " [(0, 1), (9, 1), (10, 1), (12, 1), (13, 1)],\n",
       " [(0, 1), (5, 1), (6, 1), (7, 1)],\n",
       " [(0, 2), (14, 1), (15, 1), (16, 1)],\n",
       " [(2, 1), (17, 1)]]"
      ]
     },
     "execution_count": 8,
     "metadata": {},
     "output_type": "execute_result"
    }
   ],
   "source": [
    "corpus"
   ]
  },
  {
   "cell_type": "code",
   "execution_count": 9,
   "id": "bcb5ed0e",
   "metadata": {},
   "outputs": [
    {
     "data": {
      "text/plain": [
       "[(0, 1), (2, 1), (3, 1), (12, 1), (17, 1)]"
      ]
     },
     "execution_count": 9,
     "metadata": {},
     "output_type": "execute_result"
    }
   ],
   "source": [
    "doc_test_vec = dictionary.doc2bow(doc_test_list)\n",
    "doc_test_vec"
   ]
  },
  {
   "cell_type": "code",
   "execution_count": 10,
   "id": "47b62c60",
   "metadata": {},
   "outputs": [],
   "source": [
    "# 相似度分析：使用TF-IDF模型对语料库建模\n",
    "tfidf = models.TfidfModel(corpus)"
   ]
  },
  {
   "cell_type": "code",
   "execution_count": 11,
   "id": "79949b89",
   "metadata": {},
   "outputs": [
    {
     "data": {
      "text/plain": [
       "[(0, 0.08112725037593049),\n",
       " (2, 0.3909393754390612),\n",
       " (3, 0.5864090631585919),\n",
       " (12, 0.3909393754390612),\n",
       " (17, 0.5864090631585919)]"
      ]
     },
     "execution_count": 11,
     "metadata": {},
     "output_type": "execute_result"
    }
   ],
   "source": [
    "# 获取测试文档中，每个词的TF-IDF值\n",
    "tfidf[doc_test_vec]"
   ]
  },
  {
   "cell_type": "code",
   "execution_count": 12,
   "id": "242a28fd",
   "metadata": {},
   "outputs": [
    {
     "data": {
      "text/plain": [
       "array([0.54680777, 0.01055349, 0.        , 0.17724207, 0.17724207,\n",
       "       0.01354522, 0.01279765, 0.70477605], dtype=float32)"
      ]
     },
     "execution_count": 12,
     "metadata": {},
     "output_type": "execute_result"
    }
   ],
   "source": [
    "# 对每个目标文档，分析测试文档的相似度\n",
    "index = similarities.SparseMatrixSimilarity(tfidf[corpus], num_features=len(dictionary.keys()))\n",
    "sim = index[tfidf[doc_test_vec]]\n",
    "sim"
   ]
  },
  {
   "cell_type": "code",
   "execution_count": 13,
   "id": "8b2f0f69",
   "metadata": {},
   "outputs": [
    {
     "data": {
      "text/plain": [
       "[(7, 0.70477605),\n",
       " (0, 0.54680777),\n",
       " (3, 0.17724207),\n",
       " (4, 0.17724207),\n",
       " (5, 0.013545224),\n",
       " (6, 0.01279765),\n",
       " (1, 0.010553493),\n",
       " (2, 0.0)]"
      ]
     },
     "execution_count": 13,
     "metadata": {},
     "output_type": "execute_result"
    }
   ],
   "source": [
    "# 根据相似度排序：\n",
    "# 从分析结果来看，测试文档与doc7相似度最高，其次是doc0，与doc2的相似度为零。大家可以根据TF-IDF的原理，看看是否符合预期。\n",
    "sorted(enumerate(sim), key=lambda item: -item[1])"
   ]
  },
  {
   "cell_type": "code",
   "execution_count": 14,
   "id": "d357de50",
   "metadata": {},
   "outputs": [
    {
     "data": {
      "text/plain": [
       "[(2, 0.0),\n",
       " (1, 0.010553493),\n",
       " (6, 0.01279765),\n",
       " (5, 0.013545224),\n",
       " (3, 0.17724207),\n",
       " (4, 0.17724207),\n",
       " (0, 0.54680777),\n",
       " (7, 0.70477605)]"
      ]
     },
     "execution_count": 14,
     "metadata": {},
     "output_type": "execute_result"
    }
   ],
   "source": [
    "sorted(enumerate(sim), key=lambda item: item[1])"
   ]
  },
  {
   "cell_type": "code",
   "execution_count": null,
   "id": "6774bf69",
   "metadata": {},
   "outputs": [],
   "source": []
  }
 ],
 "metadata": {
  "kernelspec": {
   "display_name": "Python 3",
   "language": "python",
   "name": "python3"
  },
  "language_info": {
   "codemirror_mode": {
    "name": "ipython",
    "version": 3
   },
   "file_extension": ".py",
   "mimetype": "text/x-python",
   "name": "python",
   "nbconvert_exporter": "python",
   "pygments_lexer": "ipython3",
   "version": "3.6.8"
  },
  "toc": {
   "base_numbering": 1,
   "nav_menu": {},
   "number_sections": true,
   "sideBar": true,
   "skip_h1_title": false,
   "title_cell": "Table of Contents",
   "title_sidebar": "Contents",
   "toc_cell": false,
   "toc_position": {},
   "toc_section_display": true,
   "toc_window_display": false
  }
 },
 "nbformat": 4,
 "nbformat_minor": 5
}
